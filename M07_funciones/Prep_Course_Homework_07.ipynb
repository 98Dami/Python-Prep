{
 "cells": [
  {
   "attachments": {},
   "cell_type": "markdown",
   "metadata": {},
   "source": [
    "## Funciones"
   ]
  },
  {
   "attachments": {},
   "cell_type": "markdown",
   "metadata": {},
   "source": [
    "1) Crear una función que reciba un número como parámetro y devuelva True si es primo y False si no lo es"
   ]
  },
  {
   "cell_type": "code",
<<<<<<< HEAD
   "execution_count": 46,
   "metadata": {},
   "outputs": [],
   "source": [
    "def es_primo(entrada):\n",
    "    primo = True\n",
    "    for elemento in range(2, entrada):\n",
    "        if(entrada % elemento == 0):\n",
    "            primo = False\n",
    "            break\n",
    "        else:\n",
    "            primo = True\n",
    "    return primo"
=======
   "execution_count": 1,
   "metadata": {},
   "outputs": [],
   "source": [
    "def verifica_primo(nro):\n",
    "    es_primo = True\n",
    "    for i in range(2, nro):\n",
    "        if(nro % i == 0):\n",
    "            es_primo = False\n",
    "            break\n",
    "    return es_primo\n"
>>>>>>> 16974253ba7d0cba48615b2202f3f479efa601f6
   ]
  },
  {
   "cell_type": "code",
<<<<<<< HEAD
   "execution_count": 48,
=======
   "execution_count": 8,
>>>>>>> 16974253ba7d0cba48615b2202f3f479efa601f6
   "metadata": {},
   "outputs": [
    {
     "data": {
      "text/plain": [
<<<<<<< HEAD
       "False"
      ]
     },
     "execution_count": 48,
=======
       "True"
      ]
     },
     "execution_count": 8,
>>>>>>> 16974253ba7d0cba48615b2202f3f479efa601f6
     "metadata": {},
     "output_type": "execute_result"
    }
   ],
   "source": [
<<<<<<< HEAD
    "num_test = 9\n",
    "es_primo(num_test)"
=======
    "nro_ingresado = int(input())\n",
    "verifica_primo(nro_ingresado)"
>>>>>>> 16974253ba7d0cba48615b2202f3f479efa601f6
   ]
  },
  {
   "attachments": {},
   "cell_type": "markdown",
   "metadata": {},
   "source": [
    "2) Utilizando la función del punto 1, realizar otra función que reciba de parámetro una lista de números y devuelva sólo aquellos que son primos en otra lista"
   ]
  },
  {
   "cell_type": "code",
<<<<<<< HEAD
   "execution_count": 56,
   "metadata": {},
   "outputs": [],
   "source": [
    "def extrae_primos_de_lista(lista_num):\n",
    "    lista_primos = []\n",
    "    for elemento in lista_num:\n",
    "        if(es_primo(elemento)):\n",
    "            lista_primos.append(elemento)\n",
    "    return lista_primos"
=======
   "execution_count": 15,
   "metadata": {},
   "outputs": [],
   "source": [
    "def extraer_primos_lista(lista):\n",
    "    lista_primos = []\n",
    "    for elemento in lista:\n",
    "        if(verifica_primo(int(elemento))):\n",
    "            lista_primos.append(elemento)\n",
    "    return(lista_primos)"
>>>>>>> 16974253ba7d0cba48615b2202f3f479efa601f6
   ]
  },
  {
   "cell_type": "code",
<<<<<<< HEAD
   "execution_count": 57,
=======
   "execution_count": 16,
>>>>>>> 16974253ba7d0cba48615b2202f3f479efa601f6
   "metadata": {},
   "outputs": [
    {
     "data": {
      "text/plain": [
<<<<<<< HEAD
       "[1, 2, 3, 5, 7, 11, 13, 17, 19]"
      ]
     },
     "execution_count": 57,
=======
       "[0, 1, 2, 3, 5, 7, 11, 13, 17, 19]"
      ]
     },
     "execution_count": 16,
>>>>>>> 16974253ba7d0cba48615b2202f3f479efa601f6
     "metadata": {},
     "output_type": "execute_result"
    }
   ],
   "source": [
<<<<<<< HEAD
    "lis_completa = [1,2,3,4,5,6,7,8,9,10,11,12,13,14,15,16,17,18,19,20]\n",
    "lis_primos = extrae_primos_de_lista(lis_completa)\n",
    "lis_primos"
=======
    "lista_completa = [0, 1, 2, 3, 4, 5, 6 ,7, 8, 9, 10, 11, 12, 13, 14, 15, 16, 17, 18, 19, 20]\n",
    "lista_primos = extraer_primos_lista(lista_completa)\n",
    "lista_primos"
>>>>>>> 16974253ba7d0cba48615b2202f3f479efa601f6
   ]
  },
  {
   "attachments": {},
   "cell_type": "markdown",
   "metadata": {},
   "source": [
    "3) Crear una función que al recibir una lista de números, devuelva el que más se repite y cuántas veces lo hace. Si hay más de un \"más repetido\", que devuelva cualquiera\n"
   ]
  },
  {
   "cell_type": "code",
   "execution_count": 2,
   "metadata": {},
   "outputs": [],
   "source": [
    "def valor_modal(lista):\n",
    "    lista_unicos = []\n",
    "    lista_repeticiones = []\n",
    "    for elemento in lista:\n",
    "        if(elemento in lista_unicos):\n",
    "            i = lista_unicos.index(elemento)\n",
    "            lista_repeticiones[i] += 1\n",
    "        else:\n",
    "            lista_unicos.append(elemento)\n",
    "            lista_repeticiones.append(1)\n",
    "    \n",
    "    moda = lista_unicos[0]\n",
    "    maximo = lista_repeticiones[0]\n",
    "    for i, elemento in enumerate(lista_unicos):\n",
    "        if(lista_repeticiones[i] > maximo):\n",
    "            moda = lista_unicos[i]\n",
    "            maximo = lista_repeticiones[i]\n",
    "    \n",
    "    return moda, maximo\n",
    "\n"
   ]
  },
  {
   "cell_type": "code",
   "execution_count": 3,
   "metadata": {},
   "outputs": [
    {
     "data": {
      "text/plain": [
       "(3, 3)"
      ]
     },
     "execution_count": 3,
     "metadata": {},
     "output_type": "execute_result"
    }
   ],
   "source": [
    "lis = [1, 2, 3, 4, 1, 3, 3]\n",
    "valor_modal(lis)"
   ]
  },
  {
   "attachments": {},
   "cell_type": "markdown",
   "metadata": {},
   "source": [
    "4) Crear una función que convierta entre grados Celsius, Farenheit y Kelvin<br>\n",
    "Fórmula 1\t: (°C × 9/5) + 32 = °F<br>\n",
    "Fórmula 2\t: °C + 273.15 = °K<br>\n",
    "Debe recibir 3 parámetros: el valor, la medida de orígen y la medida de destino\n"
   ]
  },
  {
   "cell_type": "code",
   "execution_count": 34,
   "metadata": {},
   "outputs": [],
   "source": [
    "def conversion_grados(valor, medida_origen, medida_destino):\n",
    "    if medida_origen == \"celsius\":\n",
    "        if medida_destino == \"farenheit\":\n",
    "            valor_destino = valor*(9/5) + 32\n",
    "        elif medida_destino == \"kelvin\":\n",
    "            valor_destino = valor + 273.15\n",
    "        elif medida_destino == \"celsius\":\n",
    "            valor_destino = valor\n",
    "        else:\n",
    "            print(\"Parámetro de destino incorrecto\")\n",
    "    elif medida_origen == \"farenheit\":\n",
    "        if medida_destino == \"celsius\":\n",
    "            valor_destino = (valor - 32) * 5/9\n",
    "        elif medida_destino == \"kelvin\":\n",
    "            valor_destino = (valor - 32)*5/9 + 273.15\n",
    "        elif medida_destino == \"farenheit\":\n",
    "            valor_destino = valor\n",
    "        else:\n",
    "            print(\"Parámetro de destino incorrecto\")\n",
    "    elif medida_origen == \"kelvin\":\n",
    "        if medida_destino == \"celsius\":\n",
    "            valor_destino = valor - 273.15\n",
    "        elif medida_destino == \"farenheit\":\n",
    "            valor_destino = (valor - 273.15) *9/5 + 32\n",
    "        elif medida_destino == \"kelvin\":\n",
    "            valor_destino = valor\n",
    "        else:\n",
    "            print(\"Parámetro de destino incorrecto\")\n",
    "    else:\n",
    "        print(\"Parámetro de origen incorrecto\")\n",
    "\n",
    "    return valor_destino"
   ]
  },
  {
   "cell_type": "code",
   "execution_count": 35,
   "metadata": {},
   "outputs": [
    {
     "name": "stdout",
     "output_type": "stream",
     "text": [
      "50.0\n",
      "-12.222222222222221\n",
      "283.15\n",
      "-263.15\n",
      "260.92777777777775\n",
      "-441.66999999999996\n"
     ]
    }
   ],
   "source": [
    "print(conversion_grados(10, \"celsius\", \"farenheit\"))\n",
    "print(conversion_grados(10, \"farenheit\", \"celsius\"))\n",
    "print(conversion_grados(10, \"celsius\", \"kelvin\"))\n",
    "print(conversion_grados(10, \"kelvin\", \"celsius\"))\n",
    "print(conversion_grados(10, \"farenheit\", \"kelvin\"))\n",
    "print(conversion_grados(10, \"kelvin\", \"farenheit\"))"
   ]
  },
  {
   "attachments": {},
   "cell_type": "markdown",
   "metadata": {},
   "source": [
    "5) Iterando una lista con los tres valores posibles de temperatura que recibe la función del punto 5, hacer un print para cada combinación de los mismos:"
   ]
  },
  {
   "cell_type": "code",
   "execution_count": 36,
   "metadata": {},
   "outputs": [
    {
     "name": "stdout",
     "output_type": "stream",
     "text": [
      "5 grados  celsius a celsius : 5\n",
      "5 grados  celsius a farenheit : 41.0\n",
      "5 grados  celsius a kelvin : 278.15\n",
      "5 grados  farenheit a celsius : -15.0\n",
      "5 grados  farenheit a farenheit : 5\n",
      "5 grados  farenheit a kelvin : 258.15\n",
      "5 grados  kelvin a celsius : -268.15\n",
      "5 grados  kelvin a farenheit : -450.66999999999996\n",
      "5 grados  kelvin a kelvin : 5\n"
     ]
    }
   ],
   "source": [
    "metricas = [\"celsius\", \"farenheit\", \"kelvin\"]\n",
    "for i in range (0, 3):\n",
    "    for j in range (0, 3):\n",
    "        print(\"5 grados \", metricas[i], \"a\", metricas[j], \":\", conversion_grados(5, metricas[i], metricas[j]))"
   ]
  },
  {
   "attachments": {},
   "cell_type": "markdown",
   "metadata": {},
   "source": [
    "6) Armar una función que devuelva el factorial de un número. Tener en cuenta que el usuario puede equivocarse y enviar de parámetro un número no entero o negativo"
   ]
  },
  {
   "cell_type": "code",
   "execution_count": 37,
   "metadata": {},
   "outputs": [],
   "source": [
    "def factorial(numero):\n",
    "    if type(numero) != int:\n",
    "        return \"El número debe de ser cardinal\"\n",
    "    if numero <= 1:\n",
    "        return 1\n",
    "    numero = numero * factorial(numero - 1)\n",
    "    \n",
    "    return numero"
   ]
  },
  {
   "cell_type": "code",
   "execution_count": 38,
   "metadata": {},
   "outputs": [
    {
     "data": {
      "text/plain": [
       "6"
      ]
     },
     "execution_count": 38,
     "metadata": {},
     "output_type": "execute_result"
    }
   ],
   "source": [
    "factorial(3)"
   ]
  }
 ],
 "metadata": {
  "kernelspec": {
   "display_name": "Python 3",
   "language": "python",
   "name": "python3"
  },
  "language_info": {
   "codemirror_mode": {
    "name": "ipython",
    "version": 3
   },
   "file_extension": ".py",
   "mimetype": "text/x-python",
   "name": "python",
   "nbconvert_exporter": "python",
   "pygments_lexer": "ipython3",
<<<<<<< HEAD
   "version": "3.11.3"
=======
   "version": "3.11.4"
  },
  "vscode": {
   "interpreter": {
    "hash": "26d40196b05e1b2686dfc47d4de48c01821dbd8137dabbaf281871c4bd6e1af5"
   }
>>>>>>> 16974253ba7d0cba48615b2202f3f479efa601f6
  }
 },
 "nbformat": 4,
 "nbformat_minor": 4
}
