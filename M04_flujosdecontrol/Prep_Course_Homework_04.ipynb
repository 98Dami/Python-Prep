{
 "cells": [
  {
   "attachments": {},
   "cell_type": "markdown",
   "metadata": {},
   "source": [
    "## Flujos de Control"
   ]
  },
  {
   "attachments": {},
   "cell_type": "markdown",
   "metadata": {},
   "source": [
    "1) Crear una variable que contenga un elemento del conjunto de números enteros y luego imprimir por pantalla si es mayor o menor a cero"
   ]
  },
  {
   "cell_type": "code",
   "execution_count": 6,
   "metadata": {},
   "outputs": [
    {
     "name": "stdout",
     "output_type": "stream",
     "text": [
      "La variable es igual a cero\n"
     ]
    }
   ],
   "source": [
    "a = 0\n",
    "if (a>0):\n",
    "    print(a, \" es mayor que cero\")\n",
    "elif (a<0):\n",
    "    print(a, \" es menor que cero\")\n",
    "else:\n",
    "    print(\"La variable es igual a cero\")"
   ]
  },
  {
   "attachments": {},
   "cell_type": "markdown",
   "metadata": {},
   "source": [
    "2) Crear dos variables y un condicional que informe si son del mismo tipo de dato"
   ]
  },
  {
   "cell_type": "code",
   "execution_count": 22,
   "metadata": {},
   "outputs": [
    {
     "name": "stdout",
     "output_type": "stream",
     "text": [
      "6 ( <class 'int'> ) es del mismo tipo de dato que  152 ( <class 'int'> )\n",
      "6 es del mismo tipo de dato que 152\n"
     ]
    }
   ],
   "source": [
    "a = 6\n",
    "b = 152\n",
    "if(type(a) == type(b)):\n",
    "    print(a, \"(\", type(a), \")\", \"es del mismo tipo de dato que \", b, \"(\", type(b), \")\")\n",
    "    print(f\"{a} es del mismo tipo de dato que {b}\")\n",
    "else:\n",
    "    print(a, \"(\", type(a), \")\", \" es de un tipo de dato diferente a \", b, \"(\", type(b), \")\")\n"
   ]
  },
  {
   "attachments": {},
   "cell_type": "markdown",
   "metadata": {},
   "source": [
    "3) Para los valores enteros del 1 al 20, imprimir por pantalla si es par o impar"
   ]
  },
  {
   "cell_type": "code",
   "execution_count": 27,
   "metadata": {},
   "outputs": [
    {
     "name": "stdout",
     "output_type": "stream",
     "text": [
      "1 no es par\n",
      "2 es par\n",
      "3 no es par\n",
      "4 es par\n",
      "5 no es par\n",
      "6 es par\n",
      "7 no es par\n",
      "8 es par\n",
      "9 no es par\n",
      "10 es par\n",
      "11 no es par\n",
      "12 es par\n",
      "13 no es par\n",
      "14 es par\n",
      "15 no es par\n",
      "16 es par\n",
      "17 no es par\n",
      "18 es par\n",
      "19 no es par\n",
      "20 es par\n"
     ]
    }
   ],
   "source": [
    "for i in range(1, 21):\n",
    "    if(i%2 == 0):\n",
    "        print(f\"{i} es par\")\n",
    "    else:\n",
    "        print(f\"{i} no es par\")"
   ]
  },
  {
   "attachments": {},
   "cell_type": "markdown",
   "metadata": {},
   "source": [
    "4) En un ciclo for mostrar para los valores entre 0 y 5 el resultado de elevarlo a la potencia igual a 3"
   ]
  },
  {
   "cell_type": "code",
   "execution_count": 28,
   "metadata": {},
   "outputs": [
    {
     "name": "stdout",
     "output_type": "stream",
     "text": [
      "0^3 = 0\n",
      "1^3 = 1\n",
      "2^3 = 8\n",
      "3^3 = 27\n",
      "4^3 = 64\n",
      "5^3 = 125\n"
     ]
    }
   ],
   "source": [
    "for i in range(0,6):\n",
    "    print(f\"{i}^3 = {i**3}\")"
   ]
  },
  {
   "attachments": {},
   "cell_type": "markdown",
   "metadata": {},
   "source": [
    "5) Crear una variable que contenga un número entero y realizar un ciclo for la misma cantidad de ciclos"
   ]
  },
  {
   "cell_type": "code",
   "execution_count": 33,
   "metadata": {},
   "outputs": [
    {
     "name": "stdout",
     "output_type": "stream",
     "text": [
      "0\n",
      "1\n",
      "2\n",
      "3\n",
      "4\n",
      "5\n",
      "6\n"
     ]
    }
   ],
   "source": [
    "n = 7\n",
    "for i in range(0, n):\n",
    "   print(i)\n",
    "   #pass"
   ]
  },
  {
   "attachments": {},
   "cell_type": "markdown",
   "metadata": {},
   "source": [
    "6) Utilizar un ciclo while para realizar el factorial de un número guardado en una variable, sólo si la variable contiene un número entero mayor a 0"
   ]
  },
  {
   "cell_type": "code",
   "execution_count": 53,
   "metadata": {},
   "outputs": [
    {
     "name": "stdout",
     "output_type": "stream",
     "text": [
      "La variable no es de tipo entero\n"
     ]
    }
   ],
   "source": [
    "n = 1.5\n",
    "a = n\n",
    "if(type(n) == int):\n",
    "    if(n > 0):\n",
    "        factorial = n\n",
    "        while(n > 2):\n",
    "            n = n - 1\n",
    "            factorial =  factorial * n\n",
    "        print(f\"El factorial de {a} es: {factorial}\")\n",
    "    else:\n",
    "        print(\"La variable no es mayor a cero\")\n",
    "print(\"La variable no es de tipo entero\")"
   ]
  },
  {
   "attachments": {},
   "cell_type": "markdown",
   "metadata": {},
   "source": [
    "7) Crear un ciclo for dentro de un ciclo while"
   ]
  },
  {
   "cell_type": "code",
   "execution_count": null,
   "metadata": {},
   "outputs": [],
   "source": []
  },
  {
   "attachments": {},
   "cell_type": "markdown",
   "metadata": {},
   "source": [
    "8) Crear un ciclo while dentro de un ciclo for"
   ]
  },
  {
   "cell_type": "code",
   "execution_count": 18,
   "metadata": {},
   "outputs": [
    {
     "name": "stdout",
     "output_type": "stream",
     "text": [
      "Ciclo for nro 1\n",
      "Ciclo while nro 1\n",
      "Ciclo while nro 2\n",
      "Ciclo for nro 2\n"
     ]
    }
   ],
   "source": [
    "n = 3\n",
    "w = 1\n",
    "for i in range(1, n):\n",
    "    print('Ciclo for nro ' + str(i))\n",
    "    while(n < 5): \n",
    "        print('Ciclo while nro ' + str(w))\n",
    "        w += 1\n",
    "        n=n+1\n",
    "    "
   ]
  },
  {
   "attachments": {},
   "cell_type": "markdown",
   "metadata": {},
   "source": [
    "9) Imprimir los números primos existentes entre 0 y 30"
   ]
  },
  {
   "cell_type": "code",
   "execution_count": 29,
   "metadata": {},
   "outputs": [
    {
     "name": "stdout",
     "output_type": "stream",
     "text": [
      "2\n",
      "3\n",
      "5\n",
      "7\n",
      "11\n",
      "13\n",
      "17\n",
      "19\n",
      "23\n",
      "29\n"
     ]
    }
   ],
   "source": [
    "tope = 30\n",
    "n = 2\n",
    "primo = True\n",
    "a = 0\n",
    "while(n<30):\n",
    "    for div in range(2, tope):\n",
    "        if(n%div == 0 and n !=div and n != 1):\n",
    "            a += 1\n",
    "    if(a==0):        \n",
    "        print(n)\n",
    "    n += 1\n",
    "    a = 0"
   ]
  },
  {
   "attachments": {},
   "cell_type": "markdown",
   "metadata": {},
   "source": [
    "10) ¿Se puede mejorar el proceso del punto 9? Utilizar las sentencias break y/ó continue para tal fin"
   ]
  },
  {
   "cell_type": "code",
   "execution_count": 30,
   "metadata": {},
   "outputs": [
    {
     "name": "stdout",
     "output_type": "stream",
     "text": [
      "2\n",
      "3\n",
      "5\n",
      "7\n",
      "11\n",
      "13\n",
      "17\n",
      "19\n",
      "23\n",
      "29\n"
     ]
    }
   ],
   "source": [
    "tope = 30\n",
    "n = 2\n",
    "primo = True\n",
    "a = 0\n",
    "while(n<30):\n",
    "    for div in range(2, tope):\n",
    "        if(n%div == 0 and n !=div and n != 1):\n",
    "            a += 1\n",
    "            break\n",
    "    if(a==0):        \n",
    "        print(n)\n",
    "    n += 1\n",
    "    a = 0"
   ]
  },
  {
   "attachments": {},
   "cell_type": "markdown",
   "metadata": {},
   "source": [
    "11) En los puntos 9 y 10, se diseño un código que encuentra números primos y además se lo optimizó. ¿Es posible saber en qué medida se optimizó?"
   ]
  },
  {
   "cell_type": "code",
   "execution_count": 32,
   "metadata": {},
   "outputs": [
    {
     "name": "stdout",
     "output_type": "stream",
     "text": [
      "2\n",
      "3\n",
      "5\n",
      "7\n",
      "11\n",
      "13\n",
      "17\n",
      "19\n",
      "23\n",
      "29\n",
      "Ciclos sin break = 784\n"
     ]
    }
   ],
   "source": [
    "ciclos_sin_break = 0\n",
    "tope = 30\n",
    "n = 2\n",
    "primo = True\n",
    "a = 0\n",
    "while(n<30):\n",
    "    for div in range(2, tope):\n",
    "        ciclos_sin_break += 1\n",
    "        if(n%div == 0 and n !=div and n != 1):\n",
    "            a += 1\n",
    "    if(a==0):        \n",
    "        print(n)\n",
    "    n += 1\n",
    "    a = 0\n",
    "print(f\"Ciclos sin break = {ciclos_sin_break}\")"
   ]
  },
  {
   "cell_type": "code",
   "execution_count": 36,
   "metadata": {},
   "outputs": [
    {
     "name": "stdout",
     "output_type": "stream",
     "text": [
      "2\n",
      "3\n",
      "5\n",
      "7\n",
      "11\n",
      "13\n",
      "17\n",
      "19\n",
      "23\n",
      "29\n",
      "Ciclos con break = 305\n",
      "Se optimizó un 38.9030612244898 % aplicando la sentencia 'break'\n"
     ]
    }
   ],
   "source": [
    "ciclos_con_break = 0\n",
    "tope = 30\n",
    "n = 2\n",
    "primo = True\n",
    "a = 0\n",
    "while(n<30):\n",
    "    for div in range(2, tope):\n",
    "        ciclos_con_break += 1\n",
    "        if(n%div == 0 and n !=div and n != 1):\n",
    "            a += 1\n",
    "            break\n",
    "    if(a==0):        \n",
    "        print(n)\n",
    "    n += 1\n",
    "    a = 0\n",
    "print(f\"Ciclos con break = {ciclos_con_break}\")\n",
    "print(f\"Se optimizó un {ciclos_con_break/ciclos_sin_break * 100} % aplicando la sentencia 'break'\")"
   ]
  },
  {
   "attachments": {},
   "cell_type": "markdown",
   "metadata": {},
   "source": [
    "12) Aplicando continue, armar un ciclo while que solo imprima los valores divisibles por 12, dentro del rango de números de 100 a 300"
   ]
  },
  {
   "cell_type": "code",
   "execution_count": 39,
   "metadata": {},
   "outputs": [
    {
     "name": "stdout",
     "output_type": "stream",
     "text": [
      "n = 108 es divisible por 12\n",
      "n = 120 es divisible por 12\n",
      "n = 132 es divisible por 12\n",
      "n = 144 es divisible por 12\n",
      "n = 156 es divisible por 12\n",
      "n = 168 es divisible por 12\n",
      "n = 180 es divisible por 12\n",
      "n = 192 es divisible por 12\n",
      "n = 204 es divisible por 12\n",
      "n = 216 es divisible por 12\n",
      "n = 228 es divisible por 12\n",
      "n = 240 es divisible por 12\n",
      "n = 252 es divisible por 12\n",
      "n = 264 es divisible por 12\n",
      "n = 276 es divisible por 12\n",
      "n = 288 es divisible por 12\n",
      "n = 300 es divisible por 12\n"
     ]
    }
   ],
   "source": [
    "n = 99\n",
    "while n<=300:\n",
    "    n += 1\n",
    "    if(n%12 != 0):\n",
    "        continue\n",
    "    print(f\"n = {n} es divisible por 12\")\n",
    "    "
   ]
  },
  {
   "attachments": {},
   "cell_type": "markdown",
   "metadata": {},
   "source": [
    "13) Utilizar la función **input()** que permite hacer ingresos por teclado, para encontrar números primos y dar la opción al usario de buscar el siguiente"
   ]
  },
  {
   "cell_type": "code",
   "execution_count": null,
   "metadata": {},
   "outputs": [],
   "source": []
  },
  {
   "attachments": {},
   "cell_type": "markdown",
   "metadata": {},
   "source": [
    "14) Crear un ciclo while que encuentre dentro del rango de 100 a 300 el primer número divisible por 3 y además múltiplo de 6"
   ]
  },
  {
   "cell_type": "code",
   "execution_count": 43,
   "metadata": {},
   "outputs": [
    {
     "name": "stdout",
     "output_type": "stream",
     "text": [
      "El número es: 102\n"
     ]
    }
   ],
   "source": [
    "n = 100\n",
    "while(n<=300):\n",
    "    if(n%6 == 0):\n",
    "        print(f\"El número es: {n}\")\n",
    "        break\n",
    "    n += 1"
   ]
  }
 ],
 "metadata": {
  "kernelspec": {
   "display_name": "Python 3",
   "language": "python",
   "name": "python3"
  },
  "language_info": {
   "codemirror_mode": {
    "name": "ipython",
    "version": 3
   },
   "file_extension": ".py",
   "mimetype": "text/x-python",
   "name": "python",
   "nbconvert_exporter": "python",
   "pygments_lexer": "ipython3",
   "version": "3.11.4"
  },
  "vscode": {
   "interpreter": {
    "hash": "26d40196b05e1b2686dfc47d4de48c01821dbd8137dabbaf281871c4bd6e1af5"
   }
  }
 },
 "nbformat": 4,
 "nbformat_minor": 4
}
