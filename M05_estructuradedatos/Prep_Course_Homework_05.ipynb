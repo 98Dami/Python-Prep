{
 "cells": [
  {
   "attachments": {},
   "cell_type": "markdown",
   "metadata": {},
   "source": [
    "## Estructuras de Datos"
   ]
  },
  {
   "attachments": {},
   "cell_type": "markdown",
   "metadata": {},
   "source": [
    "1) Crear una lista que contenga nombres de ciudades del mundo que contenga más de 5 elementos e imprimir por pantalla"
   ]
  },
  {
   "cell_type": "code",
   "execution_count": 3,
   "metadata": {},
   "outputs": [
    {
     "name": "stdout",
     "output_type": "stream",
     "text": [
      "['Berlín', 'CABA', 'Tokio', 'París', 'Pekín', 'Washington D. C.', 'Ottawa', 'Londres', 'Berna']\n"
     ]
    }
   ],
   "source": [
    "capitales = [\"Berlín\", \"CABA\",  \"Tokio\", \"París\", \"Pekín\", \"Washington D. C.\", \"Ottawa\", \"Londres\", \"Berna\"]\n",
    "print(capitales)"
   ]
  },
  {
   "attachments": {},
   "cell_type": "markdown",
   "metadata": {},
   "source": [
    "2) Imprimir por pantalla el segundo elemento de la lista"
   ]
  },
  {
   "cell_type": "code",
   "execution_count": 4,
   "metadata": {},
   "outputs": [
    {
     "name": "stdout",
     "output_type": "stream",
     "text": [
      "CABA\n"
     ]
    }
   ],
   "source": [
    "print(capitales[1])"
   ]
  },
  {
   "attachments": {},
   "cell_type": "markdown",
   "metadata": {},
   "source": [
    "3) Imprimir por pantalla del segundo al cuarto elemento"
   ]
  },
  {
   "cell_type": "code",
   "execution_count": 5,
   "metadata": {},
   "outputs": [
    {
     "name": "stdout",
     "output_type": "stream",
     "text": [
      "['Tokio', 'París']\n"
     ]
    }
   ],
   "source": [
    "print(capitales[2:4])"
   ]
  },
  {
   "attachments": {},
   "cell_type": "markdown",
   "metadata": {},
   "source": [
    "4) Visualizar el tipo de dato de la lista"
   ]
  },
  {
   "cell_type": "code",
   "execution_count": 6,
   "metadata": {},
   "outputs": [
    {
     "name": "stdout",
     "output_type": "stream",
     "text": [
      "<class 'list'>\n"
     ]
    }
   ],
   "source": [
    "print(type(capitales))"
   ]
  },
  {
   "attachments": {},
   "cell_type": "markdown",
   "metadata": {},
   "source": [
    "5) Visualizar todos los elementos de la lista a partir del tercero de manera genérica, es decir, sin explicitar la posición del último elemento"
   ]
  },
  {
   "cell_type": "code",
   "execution_count": 7,
   "metadata": {},
   "outputs": [
    {
     "name": "stdout",
     "output_type": "stream",
     "text": [
      "['París', 'Pekín', 'Washington D. C.', 'Ottawa', 'Londres', 'Berna']\n"
     ]
    }
   ],
   "source": [
    "print(capitales[3:])"
   ]
  },
  {
   "attachments": {},
   "cell_type": "markdown",
   "metadata": {},
   "source": [
    "6) Visualizar los primeros 4 elementos de la lista"
   ]
  },
  {
   "cell_type": "code",
   "execution_count": 8,
   "metadata": {},
   "outputs": [
    {
     "name": "stdout",
     "output_type": "stream",
     "text": [
      "['Berlín', 'CABA', 'Tokio', 'París']\n"
     ]
    }
   ],
   "source": [
    "print(capitales[:4])"
   ]
  },
  {
   "attachments": {},
   "cell_type": "markdown",
   "metadata": {},
   "source": [
    "7) Agregar una ciudad más a la lista que ya exista y otra que no ¿Arroja algún tipo de error?"
   ]
  },
  {
   "cell_type": "code",
   "execution_count": 9,
   "metadata": {},
   "outputs": [],
   "source": [
    "capitales.append(\"CABA\")"
   ]
  },
  {
   "cell_type": "code",
   "execution_count": 10,
   "metadata": {},
   "outputs": [],
   "source": [
    "capitales.append(\"La Habana\")"
   ]
  },
  {
   "cell_type": "code",
   "execution_count": 11,
   "metadata": {},
   "outputs": [
    {
     "name": "stdout",
     "output_type": "stream",
     "text": [
      "['Berlín', 'CABA', 'Tokio', 'París', 'Pekín', 'Washington D. C.', 'Ottawa', 'Londres', 'Berna', 'CABA', 'La Habana']\n"
     ]
    }
   ],
   "source": [
    "print(capitales)"
   ]
  },
  {
   "attachments": {},
   "cell_type": "markdown",
   "metadata": {},
   "source": [
    "8) Agregar otra ciudad, pero en la cuarta posición"
   ]
  },
  {
   "cell_type": "code",
   "execution_count": 12,
   "metadata": {},
   "outputs": [
    {
     "name": "stdout",
     "output_type": "stream",
     "text": [
      "['Berlín', 'CABA', 'Tokio', 'Abuya', 'París', 'Pekín', 'Washington D. C.', 'Ottawa', 'Londres', 'Berna', 'CABA', 'La Habana']\n"
     ]
    }
   ],
   "source": [
    "capitales.insert(3, \"Abuya\")\n",
    "print(capitales)"
   ]
  },
  {
   "attachments": {},
   "cell_type": "markdown",
   "metadata": {},
   "source": [
    "9) Concatenar otra lista a la ya creada"
   ]
  },
  {
   "cell_type": "code",
   "execution_count": 13,
   "metadata": {},
   "outputs": [
    {
     "name": "stdout",
     "output_type": "stream",
     "text": [
      "['Berlín', 'CABA', 'Tokio', 'Abuya', 'París', 'Pekín', 'Washington D. C.', 'Ottawa', 'Londres', 'Berna', 'CABA', 'La Habana', 'Madrid', 'Lisboa', 'Ámsterdam']\n"
     ]
    }
   ],
   "source": [
    "capitales.extend([\"Madrid\", \"Lisboa\", \"Ámsterdam\"])\n",
    "print(capitales)"
   ]
  },
  {
   "attachments": {},
   "cell_type": "markdown",
   "metadata": {},
   "source": [
    "10) Encontrar el índice de la ciudad que en el punto 7 agregamos duplicada. ¿Se nota alguna particularidad?"
   ]
  },
  {
   "cell_type": "code",
   "execution_count": 14,
   "metadata": {},
   "outputs": [
    {
     "name": "stdout",
     "output_type": "stream",
     "text": [
      "1\n"
     ]
    }
   ],
   "source": [
    "print(capitales.index(\"CABA\"))"
   ]
  },
  {
   "attachments": {},
   "cell_type": "markdown",
   "metadata": {},
   "source": [
    "11) ¿Qué pasa si se busca un elemento que no existe?"
   ]
  },
  {
   "cell_type": "code",
   "execution_count": 15,
   "metadata": {},
   "outputs": [
    {
     "ename": "ValueError",
     "evalue": "'hola' is not in list",
     "output_type": "error",
     "traceback": [
      "\u001b[1;31m---------------------------------------------------------------------------\u001b[0m",
      "\u001b[1;31mValueError\u001b[0m                                Traceback (most recent call last)",
      "Cell \u001b[1;32mIn[15], line 1\u001b[0m\n\u001b[1;32m----> 1\u001b[0m \u001b[39mprint\u001b[39m(capitales\u001b[39m.\u001b[39;49mindex(\u001b[39m\"\u001b[39;49m\u001b[39mhola\u001b[39;49m\u001b[39m\"\u001b[39;49m))\n",
      "\u001b[1;31mValueError\u001b[0m: 'hola' is not in list"
     ]
    }
   ],
   "source": [
    "print(capitales.index(\"hola\"))"
   ]
  },
  {
   "attachments": {},
   "cell_type": "markdown",
   "metadata": {},
   "source": [
    "12) Eliminar un elemento de la lista"
   ]
  },
  {
   "cell_type": "code",
   "execution_count": null,
   "metadata": {},
   "outputs": [
    {
     "name": "stdout",
     "output_type": "stream",
     "text": [
      "['Berlín', 'CABA', 'Tokio', 'Abuya', 'París', 'Pekín', 'Washington D. C.', 'Londres', 'Berna', 'CABA', 'La Habana', 'Madrid', 'Lisboa', 'Ámsterdam']\n"
     ]
    }
   ],
   "source": [
    "capitales.remove(\"Ottawa\")\n",
    "print(capitales)"
   ]
  },
  {
   "attachments": {},
   "cell_type": "markdown",
   "metadata": {},
   "source": [
    "13) ¿Qué pasa si el elemento a eliminar no existe?"
   ]
  },
  {
   "cell_type": "code",
   "execution_count": null,
   "metadata": {},
   "outputs": [
    {
     "ename": "ValueError",
     "evalue": "list.remove(x): x not in list",
     "output_type": "error",
     "traceback": [
      "\u001b[1;31m---------------------------------------------------------------------------\u001b[0m",
      "\u001b[1;31mValueError\u001b[0m                                Traceback (most recent call last)",
      "Cell \u001b[1;32mIn[16], line 1\u001b[0m\n\u001b[1;32m----> 1\u001b[0m capitales\u001b[39m.\u001b[39;49mremove(\u001b[39m\"\u001b[39;49m\u001b[39mOttawa\u001b[39;49m\u001b[39m\"\u001b[39;49m)\n\u001b[0;32m      2\u001b[0m \u001b[39mprint\u001b[39m(capitales)\n",
      "\u001b[1;31mValueError\u001b[0m: list.remove(x): x not in list"
     ]
    }
   ],
   "source": [
    "capitales.remove(\"Ottawa\")\n",
    "print(capitales)"
   ]
  },
  {
   "attachments": {},
   "cell_type": "markdown",
   "metadata": {},
   "source": [
    "14) Extraer el úlimo elemento de la lista, guardarlo en una variable e imprimirlo"
   ]
  },
  {
   "cell_type": "code",
   "execution_count": null,
   "metadata": {},
   "outputs": [
    {
     "name": "stdout",
     "output_type": "stream",
     "text": [
      "Pekín\n",
      "['Berlín', 'CABA', 'Tokio', 'Abuya', 'París']\n"
     ]
    }
   ],
   "source": [
    "ultimo = capitales.pop()\n",
    "print(ultimo)\n",
    "print(capitales)"
   ]
  },
  {
   "attachments": {},
   "cell_type": "markdown",
   "metadata": {},
   "source": [
    "15) Mostrar la lista multiplicada por 4"
   ]
  },
  {
   "cell_type": "code",
   "execution_count": null,
   "metadata": {},
   "outputs": [
    {
     "name": "stdout",
     "output_type": "stream",
     "text": [
      "['Berlín', 'CABA', 'Tokio', 'Abuya', 'París', 'Berlín', 'CABA', 'Tokio', 'Abuya', 'París', 'Berlín', 'CABA', 'Tokio', 'Abuya', 'París', 'Berlín', 'CABA', 'Tokio', 'Abuya', 'París']\n"
     ]
    }
   ],
   "source": [
    "print(capitales*4)"
   ]
  },
  {
   "attachments": {},
   "cell_type": "markdown",
   "metadata": {},
   "source": [
    "16) Crear una tupla que contenga los números enteros del 1 al 20"
   ]
  },
  {
   "cell_type": "code",
   "execution_count": null,
   "metadata": {},
   "outputs": [
    {
     "name": "stdout",
     "output_type": "stream",
     "text": [
      "<class 'tuple'>\n",
      "(1, 2, 3, 4, 5, 6, 7, 8, 9, 10, 11, 12, 13, 14, 15, 16, 17, 18, 19, 20)\n"
     ]
    }
   ],
   "source": [
    "tup = (1, 2, 3, 4, 5, 6, 7, 8, 9, 10, 11, 12,13, 14, 15, 16, 17 ,18, 19, 20)\n",
    "print(type(tup))\n",
    "print(tup)"
   ]
  },
  {
   "attachments": {},
   "cell_type": "markdown",
   "metadata": {},
   "source": [
    "17) Imprimir desde el índice 10 al 15 de la tupla"
   ]
  },
  {
   "cell_type": "code",
   "execution_count": null,
   "metadata": {},
   "outputs": [
    {
     "name": "stdout",
     "output_type": "stream",
     "text": [
      "(11, 12, 13, 14, 15, 16)\n"
     ]
    }
   ],
   "source": [
    "print(tup[10:16])"
   ]
  },
  {
   "attachments": {},
   "cell_type": "markdown",
   "metadata": {},
   "source": [
    "18) Evaluar si los números 20 y 30 están dentro de la tupla"
   ]
  },
  {
   "cell_type": "code",
   "execution_count": null,
   "metadata": {},
   "outputs": [
    {
     "name": "stdout",
     "output_type": "stream",
     "text": [
      "True False\n"
     ]
    }
   ],
   "source": [
    "print(20 in tup, 30 in tup)"
   ]
  },
  {
   "attachments": {},
   "cell_type": "markdown",
   "metadata": {},
   "source": [
    "19) Con la lista creada en el punto 1, validar la existencia del elemento 'París' y si no existe, agregarlo. Utilizar una variable e informar lo sucedido."
   ]
  },
  {
   "cell_type": "code",
   "execution_count": null,
   "metadata": {},
   "outputs": [
    {
     "name": "stdout",
     "output_type": "stream",
     "text": [
      "El elemento ya existe\n"
     ]
    }
   ],
   "source": [
    "elemento = \"Montevideo\"\n",
    "if(elemento in capitales):\n",
    "    print(\"El elemento ya existe\")\n",
    "    #pass\n",
    "else:\n",
    "    capitales.append(elemento)\n",
    "    print(\"Se agregó el elemento a la lista\")"
   ]
  },
  {
   "attachments": {},
   "cell_type": "markdown",
   "metadata": {},
   "source": [
    "20) Mostrar la cantidad de veces que se encuentra un elemento específico dentro de la tupla y de la lista"
   ]
  },
  {
   "cell_type": "code",
   "execution_count": null,
   "metadata": {},
   "outputs": [
    {
     "name": "stdout",
     "output_type": "stream",
     "text": [
      "1\n",
      "1\n",
      "True\n"
     ]
    }
   ],
   "source": [
    "print(tup.count(10))\n",
    "print(capitales.count(\"Pekín\"))\n",
    "print(\"Pekín\" in capitales)"
   ]
  },
  {
   "attachments": {},
   "cell_type": "markdown",
   "metadata": {},
   "source": [
    "21) Convertir la tupla en una lista"
   ]
  },
  {
   "cell_type": "code",
   "execution_count": null,
   "metadata": {},
   "outputs": [
    {
     "data": {
      "text/plain": [
       "[1, 2, 3, 4, 5, 6, 7, 8, 9, 10, 11, 12, 13, 14, 15, 16, 17, 18, 19, 20]"
      ]
     },
     "execution_count": 69,
     "metadata": {},
     "output_type": "execute_result"
    }
   ],
   "source": [
    "list(tup)"
   ]
  },
  {
   "attachments": {},
   "cell_type": "markdown",
   "metadata": {},
   "source": [
    "22) Desempaquetar solo los primeros 3 elementos de la tupla en 3 variables"
   ]
  },
  {
   "cell_type": "code",
   "execution_count": null,
   "metadata": {},
   "outputs": [
    {
     "name": "stdout",
     "output_type": "stream",
     "text": [
      "1 2 3\n",
      "[4, 5, 6, 7, 8, 9, 10, 11, 12, 13, 14, 15, 16, 17, 18, 19, 20]\n"
     ]
    }
   ],
   "source": [
    "v1, v2, v3, *_ = tup\n",
    "print(v1, v2, v3)\n",
    "print(_)"
   ]
  },
  {
   "attachments": {},
   "cell_type": "markdown",
   "metadata": {},
   "source": [
    "El asterisco (*) en la asignación de variables se utiliza en Python para desempaquetar elementos adicionales de una secuencia en una variable, usualmente al final de la lista de variables a desempaquetar.\n",
    "El asterisco (*) se utiliza para desempaquetar los elementos restantes de la tupla en una lista y asignarlos a la variable que sigue al asterisco. En este caso, se desempaquetarán todos los elementos restantes de la tupla después de v3 y se asignarán a la lista _. Como estamos usando el guión bajo (_), que es una convención común para indicar que una variable no se utilizará, no nos importa el contenido de esta lista, pero necesitamos capturar esos elementos para que no se pierdan durante la asignación. Si no nos importa lo que queda en la tupla, simplemente podemos dejarlo como _.\n",
    "\n",
    "Por lo tanto, en el ejemplo dado, v1, v2 y v3 recibirán los primeros tres elementos de la tupla, y cualquier elemento adicional se ignorará."
   ]
  },
  {
   "attachments": {},
   "cell_type": "markdown",
   "metadata": {},
   "source": [
    "23) Crear un diccionario utilizando la lista crada en el punto 1, asignandole la clave \"ciudad\". Agregar tambien otras claves, como puede ser \"Pais\" y \"Continente\"."
   ]
  },
  {
   "cell_type": "code",
   "execution_count": 24,
   "metadata": {},
   "outputs": [
    {
     "data": {
      "text/plain": [
       "{'Capital': ['Berlín',\n",
       "  'CABA',\n",
       "  'Tokio',\n",
       "  'Abuya',\n",
       "  'París',\n",
       "  'Pekín',\n",
       "  'Washington D. C.',\n",
       "  'Ottawa',\n",
       "  'Londres',\n",
       "  'Berna',\n",
       "  'CABA',\n",
       "  'La Habana',\n",
       "  'Madrid',\n",
       "  'Lisboa',\n",
       "  'Ámsterdam'],\n",
       " 'País': ['Alemania',\n",
       "  'Argentina',\n",
       "  'Japón',\n",
       "  'Nigeria',\n",
       "  'Francia',\n",
       "  'China',\n",
       "  'USA',\n",
       "  'Canada',\n",
       "  'Inglaterra',\n",
       "  'Suiza',\n",
       "  'Cuba',\n",
       "  'España',\n",
       "  'Portugal',\n",
       "  'Países Bajos',\n",
       "  'Uruguay'],\n",
       " 'Continente': ['Europa',\n",
       "  'América',\n",
       "  'Asia',\n",
       "  'África',\n",
       "  'Europa',\n",
       "  'Asia',\n",
       "  'América',\n",
       "  'América',\n",
       "  'Europa',\n",
       "  'Europa',\n",
       "  'América',\n",
       "  'Europa',\n",
       "  'Europa',\n",
       "  'Europa',\n",
       "  'América']}"
      ]
     },
     "execution_count": 24,
     "metadata": {},
     "output_type": "execute_result"
    }
   ],
   "source": [
    "dicc = {\"Capital\": capitales, \"País\": [\"Alemania\", \"Argentina\", \"Japón\", \"Nigeria\", \"Francia\", \"China\", \"USA\",\n",
    "\"Canada\", \"Inglaterra\", \"Suiza\", \"Cuba\", \"España\", \"Portugal\", \"Países Bajos\", \"Uruguay\"], \n",
    "\"Continente\" : [\"Europa\", \"América\", \"Asia\", \"África\", \"Europa\", \"Asia\", \"América\", \"América\", \"Europa\", \"Europa\", \"América\", \"Europa\", \"Europa\", \"Europa\", \"América\"]}\n",
    "dicc"
   ]
  },
  {
   "attachments": {},
   "cell_type": "markdown",
   "metadata": {},
   "source": [
    "24) Imprimir las claves del diccionario"
   ]
  },
  {
   "cell_type": "code",
   "execution_count": 21,
   "metadata": {},
   "outputs": [
    {
     "name": "stdout",
     "output_type": "stream",
     "text": [
      "dict_keys(['Capital', 'País', 'Continente'])\n"
     ]
    }
   ],
   "source": [
    "print(dicc.keys())"
   ]
  },
  {
   "attachments": {},
   "cell_type": "markdown",
   "metadata": {},
   "source": [
    "25) Imprimir las ciudades a través de su clave"
   ]
  },
  {
   "cell_type": "code",
   "execution_count": 29,
   "metadata": {},
   "outputs": [
    {
     "name": "stdout",
     "output_type": "stream",
     "text": [
      "['Berlín', 'CABA', 'Tokio', 'Abuya', 'París', 'Pekín', 'Washington D. C.', 'Ottawa', 'Londres', 'Berna', 'CABA', 'La Habana', 'Madrid', 'Lisboa', 'Ámsterdam']\n",
      "dict_values([['Berlín', 'CABA', 'Tokio', 'Abuya', 'París', 'Pekín', 'Washington D. C.', 'Ottawa', 'Londres', 'Berna', 'CABA', 'La Habana', 'Madrid', 'Lisboa', 'Ámsterdam'], ['Alemania', 'Argentina', 'Japón', 'Nigeria', 'Francia', 'China', 'USA', 'Canada', 'Inglaterra', 'Suiza', 'Cuba', 'España', 'Portugal', 'Países Bajos', 'Uruguay'], ['Europa', 'América', 'Asia', 'África', 'Europa', 'Asia', 'América', 'América', 'Europa', 'Europa', 'América', 'Europa', 'Europa', 'Europa', 'América']])\n",
      "3\n"
     ]
    }
   ],
   "source": [
    "print(dicc[\"Capital\"])\n",
    "print(dicc.values())\n",
    "print(len(dicc))"
   ]
  }
 ],
 "metadata": {
  "kernelspec": {
   "display_name": "Python 3",
   "language": "python",
   "name": "python3"
  },
  "language_info": {
   "codemirror_mode": {
    "name": "ipython",
    "version": 3
   },
   "file_extension": ".py",
   "mimetype": "text/x-python",
   "name": "python",
   "nbconvert_exporter": "python",
   "pygments_lexer": "ipython3",
   "version": "3.11.4"
  },
  "vscode": {
   "interpreter": {
    "hash": "26d40196b05e1b2686dfc47d4de48c01821dbd8137dabbaf281871c4bd6e1af5"
   }
  }
 },
 "nbformat": 4,
 "nbformat_minor": 4
}
