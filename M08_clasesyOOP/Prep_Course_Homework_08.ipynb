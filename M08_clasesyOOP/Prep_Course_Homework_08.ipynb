{
 "cells": [
  {
   "attachments": {},
   "cell_type": "markdown",
   "metadata": {},
   "source": [
    "## Clases y Programación Orientada a Objetos"
   ]
  },
  {
   "attachments": {},
   "cell_type": "markdown",
   "metadata": {},
   "source": [
    "1) Crear la clase vehículo que contenga los atributos:<br>\n",
    "Color<br>\n",
    "Si es moto, auto, camioneta ó camión<br>\n",
    "Cilindrada del motor"
   ]
  },
  {
   "cell_type": "code",
   "execution_count": 8,
   "metadata": {},
   "outputs": [],
   "source": [
    "class Vehiculo:\n",
    "    def __init__(self, color, tipo, cilindrado):\n",
    "        print(\"Soy un nuevo objeto, instancia de la clase 'Vehiculo'\")\n",
    "        self.color = color\n",
    "        self.tipo = tipo\n",
    "        self.cilindrado = cilindrado"
   ]
  },
  {
   "cell_type": "code",
   "execution_count": 9,
   "metadata": {},
   "outputs": [
    {
     "name": "stdout",
     "output_type": "stream",
     "text": [
      "Soy un nuevo objeto, instancia de la clase 'Vehiculo'\n",
      "Auto: gris\n",
      "Auto: auto\n",
      "Auto: 1.3\n"
     ]
    }
   ],
   "source": [
    "palio = Vehiculo(\"gris\", \"auto\", \"1.3\")\n",
    "print(f\"Auto: {palio.color}\")\n",
    "print(f\"Auto: {palio.tipo}\")\n",
    "print(f\"Auto: {palio.cilindrado}\")\n"
   ]
  },
  {
   "attachments": {},
   "cell_type": "markdown",
   "metadata": {},
   "source": [
    "2) A la clase Vehiculo creada en el punto 1, agregar los siguientes métodos:<br>\n",
    "Acelerar<br>\n",
    "Frenar<br>\n",
    "Doblar<br>"
   ]
  },
  {
   "cell_type": "code",
   "execution_count": 10,
   "metadata": {},
   "outputs": [],
   "source": [
    "class Vehiculo:\n",
    "    def __init__(self, color, tipo, cilindrado):\n",
    "        print(\"Soy un nuevo objeto, instancia de la clase 'Vehiculo'\")\n",
    "        self.color = color\n",
    "        self.tipo = tipo\n",
    "        self.cilindrado = cilindrado\n",
    "        self.velocidad = 0\n",
    "        self.direccion = 0\n",
    "\n",
    "    def Acelerar(self, vel):\n",
    "        self.velocidad += vel\n",
    "    \n",
    "    def Frenar(self, vel):\n",
    "        self.velocidad -= vel\n",
    "    \n",
    "    def Doblar(self, grados):\n",
    "        self.direccion = grados"
   ]
  },
  {
   "attachments": {},
   "cell_type": "markdown",
   "metadata": {},
   "source": [
    "3) Instanciar 3 objetos de la clase vehículo y ejecutar sus métodos, probar luego el resultado"
   ]
  },
  {
   "cell_type": "code",
   "execution_count": 11,
   "metadata": {},
   "outputs": [
    {
     "name": "stdout",
     "output_type": "stream",
     "text": [
      "Soy un nuevo objeto, instancia de la clase 'Vehiculo'\n",
      "Soy un nuevo objeto, instancia de la clase 'Vehiculo'\n",
      "Soy un nuevo objeto, instancia de la clase 'Vehiculo'\n"
     ]
    }
   ],
   "source": [
    "v1 = Vehiculo (\"rojo\", \"auto\", \"2.0\")\n",
    "v2 = Vehiculo (\"gris\", \"camioneta\", \"3.0\")\n",
    "v3 = Vehiculo (\"negro\", \"moto\", \"150\")"
   ]
  },
  {
   "cell_type": "code",
   "execution_count": 12,
   "metadata": {},
   "outputs": [],
   "source": [
    "v1.Acelerar(50)\n",
    "v1.Frenar(30)\n",
    "v1.Doblar(-15)\n",
    "\n",
    "v2.Acelerar(67)\n",
    "v2.Frenar(96)\n",
    "v2.Doblar(65)\n",
    "\n",
    "v3.Acelerar(12)\n",
    "v3.Frenar(-12)\n",
    "v3.Doblar(-107)"
   ]
  },
  {
   "attachments": {},
   "cell_type": "markdown",
   "metadata": {},
   "source": [
    "4) Agregar a la clase Vehiculo, un método que muestre su estado, es decir, a que velocidad se encuentra y su dirección. Y otro método que muestre color, tipo y cilindrada"
   ]
  },
  {
   "cell_type": "code",
   "execution_count": 19,
   "metadata": {},
   "outputs": [],
   "source": [
    "class Vehiculo:\n",
    "    def __init__(self, color, tipo, cilindrado):\n",
    "        print(\"Soy un nuevo objeto, instancia de la clase 'Vehiculo'\")\n",
    "        self.color = color\n",
    "        self.tipo = tipo\n",
    "        self.cilindrado = cilindrado\n",
    "        self.velocidad = 0\n",
    "        self.direccion = 0\n",
    "\n",
    "    def Acelerar(self, vel):\n",
    "        self.velocidad += vel\n",
    "    \n",
    "    def Frenar(self, vel):\n",
    "        self.velocidad -= vel\n",
    "    \n",
    "    def Doblar(self, grados):\n",
    "        self.direccion = grados\n",
    "\n",
    "    def Estado(self):\n",
    "        print(f\"La velocidad es de {self.velocidad} y la dirección de {self.direccion}\")\n",
    "\n",
    "    def Detalle(self):\n",
    "        print(f\"Soy un/una {self.tipo}, de color {self.color}, de colindrado {self.cilindrado}\")"
   ]
  },
  {
   "cell_type": "code",
   "execution_count": 21,
   "metadata": {},
   "outputs": [
    {
     "name": "stdout",
     "output_type": "stream",
     "text": [
      "Soy un nuevo objeto, instancia de la clase 'Vehiculo'\n",
      "Soy un/una auto, de color amarillo, de colindrado 1.6\n",
      "La velocidad es de 0 y la dirección de 0\n",
      "La velocidad es de 40 y la dirección de 30\n"
     ]
    }
   ],
   "source": [
    "v4 = Vehiculo(\"amarillo\", \"auto\", 1.6)\n",
    "v4.Detalle()\n",
    "v4.Estado()\n",
    "v4.Acelerar(40)\n",
    "v4.Doblar(30)\n",
    "v4.Estado()"
   ]
  },
  {
   "attachments": {},
   "cell_type": "markdown",
   "metadata": {},
   "source": [
    "5) Crear una clase que permita utilizar las funciones creadas en la práctica del módulo 7<br>\n",
    "Verificar Primo<br>\n",
    "Valor modal<br>\n",
    "Conversión grados<br>\n",
    "Factorial<br>"
   ]
  },
  {
   "cell_type": "code",
   "execution_count": null,
   "metadata": {},
   "outputs": [],
   "source": []
  },
  {
   "attachments": {},
   "cell_type": "markdown",
   "metadata": {},
   "source": [
    "6) Probar las funciones incorporadas en la clase del punto 5"
   ]
  },
  {
   "cell_type": "code",
   "execution_count": null,
   "metadata": {},
   "outputs": [],
   "source": []
  },
  {
   "attachments": {},
   "cell_type": "markdown",
   "metadata": {},
   "source": [
    "7) Es necesario que la clase creada en el punto 5 contenga una lista, sobre la cual se apliquen las funciones incorporadas"
   ]
  },
  {
   "cell_type": "code",
   "execution_count": null,
   "metadata": {},
   "outputs": [],
   "source": []
  },
  {
   "attachments": {},
   "cell_type": "markdown",
   "metadata": {},
   "source": [
    "8) Crear un archivo .py aparte y ubicar allí la clase generada en el punto anterior. Luego realizar la importación del módulo y probar alguna de sus funciones"
   ]
  },
  {
   "cell_type": "code",
   "execution_count": null,
   "metadata": {},
   "outputs": [],
   "source": []
  }
 ],
 "metadata": {
  "interpreter": {
   "hash": "c85384e4cb51c8b72350f3a8712cc8351fdc3955e32a27f9b60c6242ab125f01"
  },
  "kernelspec": {
   "display_name": "Python 3 (ipykernel)",
   "language": "python",
   "name": "python3"
  },
  "language_info": {
   "codemirror_mode": {
    "name": "ipython",
    "version": 3
   },
   "file_extension": ".py",
   "mimetype": "text/x-python",
   "name": "python",
   "nbconvert_exporter": "python",
   "pygments_lexer": "ipython3",
   "version": "3.11.3"
  }
 },
 "nbformat": 4,
 "nbformat_minor": 4
}
