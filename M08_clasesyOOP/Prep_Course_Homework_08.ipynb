{
 "cells": [
  {
   "attachments": {},
   "cell_type": "markdown",
   "metadata": {},
   "source": [
    "## Clases y Programación Orientada a Objetos"
   ]
  },
  {
   "attachments": {},
   "cell_type": "markdown",
   "metadata": {},
   "source": [
    "1) Crear la clase vehículo que contenga los atributos:<br>\n",
    "Color<br>\n",
    "Si es moto, auto, camioneta ó camión<br>\n",
    "Cilindrada del motor"
   ]
  },
  {
   "cell_type": "code",
   "execution_count": 8,
   "metadata": {},
   "outputs": [],
   "source": [
    "class Vehiculo:\n",
    "    def __init__(self, color, tipo, cilindrado):\n",
    "        print(\"Soy un nuevo objeto, instancia de la clase 'Vehiculo'\")\n",
    "        self.color = color\n",
    "        self.tipo = tipo\n",
    "        self.cilindrado = cilindrado"
   ]
  },
  {
   "cell_type": "code",
   "execution_count": 9,
   "metadata": {},
   "outputs": [
    {
     "name": "stdout",
     "output_type": "stream",
     "text": [
      "Soy un nuevo objeto, instancia de la clase 'Vehiculo'\n",
      "Auto: gris\n",
      "Auto: auto\n",
      "Auto: 1.3\n"
     ]
    }
   ],
   "source": [
    "palio = Vehiculo(\"gris\", \"auto\", \"1.3\")\n",
    "print(f\"Auto: {palio.color}\")\n",
    "print(f\"Auto: {palio.tipo}\")\n",
    "print(f\"Auto: {palio.cilindrado}\")\n"
   ]
  },
  {
   "attachments": {},
   "cell_type": "markdown",
   "metadata": {},
   "source": [
    "2) A la clase Vehiculo creada en el punto 1, agregar los siguientes métodos:<br>\n",
    "Acelerar<br>\n",
    "Frenar<br>\n",
    "Doblar<br>"
   ]
  },
  {
   "cell_type": "code",
   "execution_count": 10,
   "metadata": {},
   "outputs": [],
   "source": [
    "class Vehiculo:\n",
    "    def __init__(self, color, tipo, cilindrado):\n",
    "        print(\"Soy un nuevo objeto, instancia de la clase 'Vehiculo'\")\n",
    "        self.color = color\n",
    "        self.tipo = tipo\n",
    "        self.cilindrado = cilindrado\n",
    "        self.velocidad = 0\n",
    "        self.direccion = 0\n",
    "\n",
    "    def Acelerar(self, vel):\n",
    "        self.velocidad += vel\n",
    "    \n",
    "    def Frenar(self, vel):\n",
    "        self.velocidad -= vel\n",
    "    \n",
    "    def Doblar(self, grados):\n",
    "        self.direccion = grados"
   ]
  },
  {
   "attachments": {},
   "cell_type": "markdown",
   "metadata": {},
   "source": [
    "3) Instanciar 3 objetos de la clase vehículo y ejecutar sus métodos, probar luego el resultado"
   ]
  },
  {
   "cell_type": "code",
   "execution_count": 11,
   "metadata": {},
   "outputs": [
    {
     "name": "stdout",
     "output_type": "stream",
     "text": [
      "Soy un nuevo objeto, instancia de la clase 'Vehiculo'\n",
      "Soy un nuevo objeto, instancia de la clase 'Vehiculo'\n",
      "Soy un nuevo objeto, instancia de la clase 'Vehiculo'\n"
     ]
    }
   ],
   "source": [
    "v1 = Vehiculo (\"rojo\", \"auto\", \"2.0\")\n",
    "v2 = Vehiculo (\"gris\", \"camioneta\", \"3.0\")\n",
    "v3 = Vehiculo (\"negro\", \"moto\", \"150\")"
   ]
  },
  {
   "cell_type": "code",
   "execution_count": 12,
   "metadata": {},
   "outputs": [],
   "source": [
    "v1.Acelerar(50)\n",
    "v1.Frenar(30)\n",
    "v1.Doblar(-15)\n",
    "\n",
    "v2.Acelerar(67)\n",
    "v2.Frenar(96)\n",
    "v2.Doblar(65)\n",
    "\n",
    "v3.Acelerar(12)\n",
    "v3.Frenar(-12)\n",
    "v3.Doblar(-107)"
   ]
  },
  {
   "attachments": {},
   "cell_type": "markdown",
   "metadata": {},
   "source": [
    "4) Agregar a la clase Vehiculo, un método que muestre su estado, es decir, a que velocidad se encuentra y su dirección. Y otro método que muestre color, tipo y cilindrada"
   ]
  },
  {
   "cell_type": "code",
   "execution_count": 19,
   "metadata": {},
   "outputs": [],
   "source": [
    "class Vehiculo:\n",
    "    def __init__(self, color, tipo, cilindrado):\n",
    "        print(\"Soy un nuevo objeto, instancia de la clase 'Vehiculo'\")\n",
    "        self.color = color\n",
    "        self.tipo = tipo\n",
    "        self.cilindrado = cilindrado\n",
    "        self.velocidad = 0\n",
    "        self.direccion = 0\n",
    "\n",
    "    def Acelerar(self, vel):\n",
    "        self.velocidad += vel\n",
    "    \n",
    "    def Frenar(self, vel):\n",
    "        self.velocidad -= vel\n",
    "    \n",
    "    def Doblar(self, grados):\n",
    "        self.direccion = grados\n",
    "\n",
    "    def Estado(self):\n",
    "        print(f\"La velocidad es de {self.velocidad} y la dirección de {self.direccion}\")\n",
    "\n",
    "    def Detalle(self):\n",
    "        print(f\"Soy un/una {self.tipo}, de color {self.color}, de colindrado {self.cilindrado}\")"
   ]
  },
  {
   "cell_type": "code",
   "execution_count": 21,
   "metadata": {},
   "outputs": [
    {
     "name": "stdout",
     "output_type": "stream",
     "text": [
      "Soy un nuevo objeto, instancia de la clase 'Vehiculo'\n",
      "Soy un/una auto, de color amarillo, de colindrado 1.6\n",
      "La velocidad es de 0 y la dirección de 0\n",
      "La velocidad es de 40 y la dirección de 30\n"
     ]
    }
   ],
   "source": [
    "v4 = Vehiculo(\"amarillo\", \"auto\", 1.6)\n",
    "v4.Detalle()\n",
    "v4.Estado()\n",
    "v4.Acelerar(40)\n",
    "v4.Doblar(30)\n",
    "v4.Estado()"
   ]
  },
  {
   "attachments": {},
   "cell_type": "markdown",
   "metadata": {},
   "source": [
    "5) Crear una clase que permita utilizar las funciones creadas en la práctica del módulo 7<br>\n",
    "Verificar Primo<br>\n",
    "Valor modal<br>\n",
    "Conversión grados<br>\n",
    "Factorial<br>"
   ]
  },
  {
   "cell_type": "code",
   "execution_count": 37,
   "metadata": {},
   "outputs": [],
   "source": [
    "class Herramientas:\n",
    "    def __init__(self) -> None:\n",
    "        pass\n",
    "\n",
    "    def verifica_primo(self, nro):\n",
    "        es_primo = True\n",
    "        for i in range(2, nro):\n",
    "            if(nro % i == 0):\n",
    "                es_primo = False\n",
    "                break\n",
    "        return es_primo   \n",
    "    \n",
    "    def valor_modal(self, lista):\n",
    "        lista_unicos = []\n",
    "        lista_repeticiones = []\n",
    "        for elemento in lista:\n",
    "            if(elemento in lista_unicos):\n",
    "                i = lista_unicos.index(elemento)\n",
    "                lista_repeticiones[i] += 1\n",
    "            else:\n",
    "                lista_unicos.append(elemento)\n",
    "                lista_repeticiones.append(1)\n",
    "        \n",
    "        moda = lista_unicos[0]\n",
    "        maximo = lista_repeticiones[0]\n",
    "        for i, elemento in enumerate(lista_unicos):\n",
    "            if(lista_repeticiones[i] > maximo):\n",
    "                moda = lista_unicos[i]\n",
    "                maximo = lista_repeticiones[i]\n",
    "        \n",
    "        return moda, maximo\n",
    "    \n",
    "    def conversion_grados(self, valor, medida_origen, medida_destino):\n",
    "        if medida_origen == \"celsius\":\n",
    "            if medida_destino == \"farenheit\":\n",
    "                valor_destino = valor*(9/5) + 32\n",
    "            elif medida_destino == \"kelvin\":\n",
    "                valor_destino = valor + 273.15\n",
    "            elif medida_destino == \"celsius\":\n",
    "                valor_destino = valor\n",
    "            else:\n",
    "                print(\"Parámetro de destino incorrecto\")\n",
    "        elif medida_origen == \"farenheit\":\n",
    "            if medida_destino == \"celsius\":\n",
    "                valor_destino = (valor - 32) * 5/9\n",
    "            elif medida_destino == \"kelvin\":\n",
    "                valor_destino = (valor - 32)*5/9 + 273.15\n",
    "            elif medida_destino == \"farenheit\":\n",
    "                valor_destino = valor\n",
    "            else:\n",
    "                print(\"Parámetro de destino incorrecto\")\n",
    "        elif medida_origen == \"kelvin\":\n",
    "            if medida_destino == \"celsius\":\n",
    "                valor_destino = valor - 273.15\n",
    "            elif medida_destino == \"farenheit\":\n",
    "                valor_destino = (valor - 273.15) *9/5 + 32\n",
    "            elif medida_destino == \"kelvin\":\n",
    "                valor_destino = valor\n",
    "            else:\n",
    "                print(\"Parámetro de destino incorrecto\")\n",
    "        else:\n",
    "            print(\"Parámetro de origen incorrecto\")\n",
    "\n",
    "        return valor_destino\n",
    "    \n",
    "    def factorial(self, numero):\n",
    "        if type(numero) != int:\n",
    "            return \"El número debe de ser cardinal\"\n",
    "        if numero <= 1:\n",
    "            return 1\n",
    "        numero = numero * self.factorial(numero - 1)\n",
    "        \n",
    "        return numero\n"
   ]
  },
  {
   "cell_type": "code",
   "execution_count": 38,
   "metadata": {},
   "outputs": [],
   "source": [
    "h = Herramientas()"
   ]
  },
  {
   "attachments": {},
   "cell_type": "markdown",
   "metadata": {},
   "source": [
    "6) Probar las funciones incorporadas en la clase del punto 5"
   ]
  },
  {
   "cell_type": "code",
   "execution_count": 7,
   "metadata": {},
   "outputs": [
    {
     "data": {
      "text/plain": [
       "True"
      ]
     },
     "execution_count": 7,
     "metadata": {},
     "output_type": "execute_result"
    }
   ],
   "source": [
    "h.verifica_primo(6)\n"
   ]
  },
  {
   "cell_type": "code",
   "execution_count": 10,
   "metadata": {},
   "outputs": [
    {
     "name": "stdout",
     "output_type": "stream",
     "text": [
      "El valor modal es 2 y se repite 3 veces\n"
     ]
    }
   ],
   "source": [
    "listado = [1, 2, 8, 4, 3, 1, 2, 2, 7 ,6]\n",
    "moda, repe = h.valor_modal(listado)\n",
    "print(f\"El valor modal es {moda} y se repite {repe} veces\")"
   ]
  },
  {
   "cell_type": "code",
   "execution_count": 35,
   "metadata": {},
   "outputs": [
    {
     "data": {
      "text/plain": [
       "283.15"
      ]
     },
     "execution_count": 35,
     "metadata": {},
     "output_type": "execute_result"
    }
   ],
   "source": [
    "h.conversion_grados(10, 'celsius', 'kelvin')"
   ]
  },
  {
   "cell_type": "code",
   "execution_count": 44,
   "metadata": {},
   "outputs": [
    {
     "data": {
      "text/plain": [
       "120"
      ]
     },
     "execution_count": 44,
     "metadata": {},
     "output_type": "execute_result"
    }
   ],
   "source": [
    "h.factorial(5)"
   ]
  },
  {
   "attachments": {},
   "cell_type": "markdown",
   "metadata": {},
   "source": [
    "7) Es necesario que la clase creada en el punto 5 contenga una lista, sobre la cual se apliquen las funciones incorporadas"
   ]
  },
  {
   "cell_type": "code",
   "execution_count": 41,
   "metadata": {},
   "outputs": [],
   "source": [
    "# La convención de nombres con un doble guion bajo al principio (como __verifica_primo) se utiliza en Python para \n",
    "#indicar que un método o atributo es privado y que no debe ser accedido desde fuera de la clase.\n",
    "\n",
    "class Herramientas:\n",
    "    def __init__(self, lista): \n",
    "        self.lista = lista\n",
    "\n",
    "    def verifica_primo(self):\n",
    "        for i in self.lista:\n",
    "            if(self.__verifica_primo(i)):\n",
    "                print(f\"El elemento {i} SI es un primo\")\n",
    "            else:\n",
    "                print(f\"El elemento {i} NO es un primo\")\n",
    "\n",
    "\n",
    "    def __verifica_primo(self, nro):\n",
    "        es_primo = True\n",
    "        for i in range(2, nro):\n",
    "            if(nro % i == 0):\n",
    "                es_primo = False\n",
    "                break\n",
    "        return es_primo   \n",
    "    \n",
    "    def valor_modal(self, lista):\n",
    "        lista_unicos = []\n",
    "        lista_repeticiones = []\n",
    "        for elemento in lista:\n",
    "            if(elemento in lista_unicos):\n",
    "                i = lista_unicos.index(elemento)\n",
    "                lista_repeticiones[i] += 1\n",
    "            else:\n",
    "                lista_unicos.append(elemento)\n",
    "                lista_repeticiones.append(1)\n",
    "        \n",
    "        moda = lista_unicos[0]\n",
    "        maximo = lista_repeticiones[0]\n",
    "        for i, elemento in enumerate(lista_unicos):\n",
    "            if(lista_repeticiones[i] > maximo):\n",
    "                moda = lista_unicos[i]\n",
    "                maximo = lista_repeticiones[i]\n",
    "        \n",
    "        return moda, maximo\n",
    "    \n",
    "    def conversion_grados(self, origen, destino):\n",
    "        for i in self.lista:\n",
    "            print(i, 'grados', origen, 'son', self.__conversion_grados(i, origen, destino),'grados',destino)\n",
    "\n",
    "    def __conversion_grados(self, valor, medida_origen, medida_destino):\n",
    "        if medida_origen == \"celsius\":\n",
    "            if medida_destino == \"farenheit\":\n",
    "                valor_destino = valor*(9/5) + 32\n",
    "            elif medida_destino == \"kelvin\":\n",
    "                valor_destino = valor + 273.15\n",
    "            elif medida_destino == \"celsius\":\n",
    "                valor_destino = valor\n",
    "            else:\n",
    "                print(\"Parámetro de destino incorrecto\")\n",
    "        elif medida_origen == \"farenheit\":\n",
    "            if medida_destino == \"celsius\":\n",
    "                valor_destino = (valor - 32) * 5/9\n",
    "            elif medida_destino == \"kelvin\":\n",
    "                valor_destino = (valor - 32)*5/9 + 273.15\n",
    "            elif medida_destino == \"farenheit\":\n",
    "                valor_destino = valor\n",
    "            else:\n",
    "                print(\"Parámetro de destino incorrecto\")\n",
    "        elif medida_origen == \"kelvin\":\n",
    "            if medida_destino == \"celsius\":\n",
    "                valor_destino = valor - 273.15\n",
    "            elif medida_destino == \"farenheit\":\n",
    "                valor_destino = (valor - 273.15) *9/5 + 32\n",
    "            elif medida_destino == \"kelvin\":\n",
    "                valor_destino = valor\n",
    "            else:\n",
    "                print(\"Parámetro de destino incorrecto\")\n",
    "        else:\n",
    "            print(\"Parámetro de origen incorrecto\")\n",
    "\n",
    "        return valor_destino\n",
    "    \n",
    "    \n",
    "    def factorial(self):\n",
    "        for i in self.lista:\n",
    "            print(f\"El factorial de {i} es = {self.__factorial(i)}\")\n",
    "    \n",
    "    \n",
    "    def __factorial(self, numero):\n",
    "        if type(numero) != int:\n",
    "            return \"El número debe de ser cardinal\"\n",
    "        if numero <= 1:\n",
    "            return 1\n",
    "        numero = numero * self.__factorial(numero - 1)\n",
    "        \n",
    "        return numero\n"
   ]
  },
  {
   "cell_type": "code",
   "execution_count": 39,
   "metadata": {},
   "outputs": [],
   "source": [
    "h = Herramientas([5, 7, 6 , 2 , 0])"
   ]
  },
  {
   "cell_type": "code",
   "execution_count": 42,
   "metadata": {},
   "outputs": [
    {
     "name": "stdout",
     "output_type": "stream",
     "text": [
      "El elemento 5 SI es un primo\n",
      "El elemento 7 SI es un primo\n",
      "El elemento 6 NO es un primo\n",
      "El elemento 2 SI es un primo\n",
      "El elemento 0 SI es un primo\n",
      "5 grados celsius son 41.0 grados farenheit\n",
      "7 grados celsius son 44.6 grados farenheit\n",
      "6 grados celsius son 42.8 grados farenheit\n",
      "2 grados celsius son 35.6 grados farenheit\n",
      "0 grados celsius son 32.0 grados farenheit\n",
      "El factorial de 5 es = 120\n",
      "El factorial de 7 es = 5040\n",
      "El factorial de 6 es = 720\n",
      "El factorial de 2 es = 2\n",
      "El factorial de 0 es = 1\n"
     ]
    }
   ],
   "source": [
    "h.verifica_primo()\n",
    "h.conversion_grados(\"celsius\", \"farenheit\")\n",
    "h.factorial()"
   ]
  },
  {
   "attachments": {},
   "cell_type": "markdown",
   "metadata": {},
   "source": [
    "8) Crear un archivo .py aparte y ubicar allí la clase generada en el punto anterior. Luego realizar la importación del módulo y probar alguna de sus funciones"
   ]
  },
  {
   "cell_type": "code",
   "execution_count": 43,
   "metadata": {},
   "outputs": [],
   "source": [
    "from herramientas_damian import *"
   ]
  },
  {
   "cell_type": "code",
   "execution_count": 44,
   "metadata": {},
   "outputs": [],
   "source": [
    "h=Herramientas([1, 6, 20, -5, 0])"
   ]
  },
  {
   "cell_type": "code",
   "execution_count": 47,
   "metadata": {},
   "outputs": [
    {
     "name": "stdout",
     "output_type": "stream",
     "text": [
      "1 grados farenheit son -17.22222222222222 grados celsius\n",
      "6 grados farenheit son -14.444444444444445 grados celsius\n",
      "20 grados farenheit son -6.666666666666667 grados celsius\n",
      "-5 grados farenheit son -20.555555555555557 grados celsius\n",
      "0 grados farenheit son -17.77777777777778 grados celsius\n"
     ]
    }
   ],
   "source": [
    "h.conversion_grados(\"farenheit\", \"celsius\")"
   ]
  }
 ],
 "metadata": {
  "interpreter": {
   "hash": "c85384e4cb51c8b72350f3a8712cc8351fdc3955e32a27f9b60c6242ab125f01"
  },
  "kernelspec": {
   "display_name": "Python 3 (ipykernel)",
   "language": "python",
   "name": "python3"
  },
  "language_info": {
   "codemirror_mode": {
    "name": "ipython",
    "version": 3
   },
   "file_extension": ".py",
   "mimetype": "text/x-python",
   "name": "python",
   "nbconvert_exporter": "python",
   "pygments_lexer": "ipython3",
   "version": "3.11.3"
  }
 },
 "nbformat": 4,
 "nbformat_minor": 4
}
